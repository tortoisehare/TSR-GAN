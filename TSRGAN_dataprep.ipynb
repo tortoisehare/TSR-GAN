{
  "nbformat": 4,
  "nbformat_minor": 0,
  "metadata": {
    "colab": {
      "name": "TSRGAN_dataprep",
      "version": "0.3.2",
      "provenance": [],
      "include_colab_link": true
    },
    "kernelspec": {
      "name": "python3",
      "display_name": "Python 3"
    }
  },
  "cells": [
    {
      "cell_type": "markdown",
      "metadata": {
        "id": "view-in-github",
        "colab_type": "text"
      },
      "source": [
        "<a href=\"https://colab.research.google.com/github/tortoisehare/TSR-GAN/blob/master/TSRGAN_dataprep.ipynb\" target=\"_parent\"><img src=\"https://colab.research.google.com/assets/colab-badge.svg\" alt=\"Open In Colab\"/></a>"
      ]
    },
    {
      "cell_type": "markdown",
      "metadata": {
        "id": "9F3i12TfDZ89",
        "colab_type": "text"
      },
      "source": [
        "Author: Stephanie Tietz\n",
        "\n",
        "Collection of code used to import German TSR dataset (42 classes) as well as a CIFAR10 (10 classes) batch, combine data using a label of '43' for all CIFAR10 images\n",
        "\n",
        "Output 1: larger dataset with all classes\n",
        "\n",
        "Output 2: smaller dataset with only 3 classes\n",
        "\n",
        "Purpose: Preliminary classification will be done on a smaller number of classes (30km/hr and 80km/hr signs) and both sets will include a class of \"not a traffic sign\" images, which is made up of random CIFAR10 images"
      ]
    },
    {
      "cell_type": "code",
      "metadata": {
        "id": "3mWYYOJTSlgI",
        "colab_type": "code",
        "outputId": "ef79fa9c-129c-4593-ae5a-3f84d94954c9",
        "colab": {
          "resources": {
            "http://localhost:8080/nbextensions/google.colab/files.js": {
              "data": "Ly8gQ29weXJpZ2h0IDIwMTcgR29vZ2xlIExMQwovLwovLyBMaWNlbnNlZCB1bmRlciB0aGUgQXBhY2hlIExpY2Vuc2UsIFZlcnNpb24gMi4wICh0aGUgIkxpY2Vuc2UiKTsKLy8geW91IG1heSBub3QgdXNlIHRoaXMgZmlsZSBleGNlcHQgaW4gY29tcGxpYW5jZSB3aXRoIHRoZSBMaWNlbnNlLgovLyBZb3UgbWF5IG9idGFpbiBhIGNvcHkgb2YgdGhlIExpY2Vuc2UgYXQKLy8KLy8gICAgICBodHRwOi8vd3d3LmFwYWNoZS5vcmcvbGljZW5zZXMvTElDRU5TRS0yLjAKLy8KLy8gVW5sZXNzIHJlcXVpcmVkIGJ5IGFwcGxpY2FibGUgbGF3IG9yIGFncmVlZCB0byBpbiB3cml0aW5nLCBzb2Z0d2FyZQovLyBkaXN0cmlidXRlZCB1bmRlciB0aGUgTGljZW5zZSBpcyBkaXN0cmlidXRlZCBvbiBhbiAiQVMgSVMiIEJBU0lTLAovLyBXSVRIT1VUIFdBUlJBTlRJRVMgT1IgQ09ORElUSU9OUyBPRiBBTlkgS0lORCwgZWl0aGVyIGV4cHJlc3Mgb3IgaW1wbGllZC4KLy8gU2VlIHRoZSBMaWNlbnNlIGZvciB0aGUgc3BlY2lmaWMgbGFuZ3VhZ2UgZ292ZXJuaW5nIHBlcm1pc3Npb25zIGFuZAovLyBsaW1pdGF0aW9ucyB1bmRlciB0aGUgTGljZW5zZS4KCi8qKgogKiBAZmlsZW92ZXJ2aWV3IEhlbHBlcnMgZm9yIGdvb2dsZS5jb2xhYiBQeXRob24gbW9kdWxlLgogKi8KKGZ1bmN0aW9uKHNjb3BlKSB7CmZ1bmN0aW9uIHNwYW4odGV4dCwgc3R5bGVBdHRyaWJ1dGVzID0ge30pIHsKICBjb25zdCBlbGVtZW50ID0gZG9jdW1lbnQuY3JlYXRlRWxlbWVudCgnc3BhbicpOwogIGVsZW1lbnQudGV4dENvbnRlbnQgPSB0ZXh0OwogIGZvciAoY29uc3Qga2V5IG9mIE9iamVjdC5rZXlzKHN0eWxlQXR0cmlidXRlcykpIHsKICAgIGVsZW1lbnQuc3R5bGVba2V5XSA9IHN0eWxlQXR0cmlidXRlc1trZXldOwogIH0KICByZXR1cm4gZWxlbWVudDsKfQoKLy8gTWF4IG51bWJlciBvZiBieXRlcyB3aGljaCB3aWxsIGJlIHVwbG9hZGVkIGF0IGEgdGltZS4KY29uc3QgTUFYX1BBWUxPQURfU0laRSA9IDEwMCAqIDEwMjQ7Ci8vIE1heCBhbW91bnQgb2YgdGltZSB0byBibG9jayB3YWl0aW5nIGZvciB0aGUgdXNlci4KY29uc3QgRklMRV9DSEFOR0VfVElNRU9VVF9NUyA9IDMwICogMTAwMDsKCmZ1bmN0aW9uIF91cGxvYWRGaWxlcyhpbnB1dElkLCBvdXRwdXRJZCkgewogIGNvbnN0IHN0ZXBzID0gdXBsb2FkRmlsZXNTdGVwKGlucHV0SWQsIG91dHB1dElkKTsKICBjb25zdCBvdXRwdXRFbGVtZW50ID0gZG9jdW1lbnQuZ2V0RWxlbWVudEJ5SWQob3V0cHV0SWQpOwogIC8vIENhY2hlIHN0ZXBzIG9uIHRoZSBvdXRwdXRFbGVtZW50IHRvIG1ha2UgaXQgYXZhaWxhYmxlIGZvciB0aGUgbmV4dCBjYWxsCiAgLy8gdG8gdXBsb2FkRmlsZXNDb250aW51ZSBmcm9tIFB5dGhvbi4KICBvdXRwdXRFbGVtZW50LnN0ZXBzID0gc3RlcHM7CgogIHJldHVybiBfdXBsb2FkRmlsZXNDb250aW51ZShvdXRwdXRJZCk7Cn0KCi8vIFRoaXMgaXMgcm91Z2hseSBhbiBhc3luYyBnZW5lcmF0b3IgKG5vdCBzdXBwb3J0ZWQgaW4gdGhlIGJyb3dzZXIgeWV0KSwKLy8gd2hlcmUgdGhlcmUgYXJlIG11bHRpcGxlIGFzeW5jaHJvbm91cyBzdGVwcyBhbmQgdGhlIFB5dGhvbiBzaWRlIGlzIGdvaW5nCi8vIHRvIHBvbGwgZm9yIGNvbXBsZXRpb24gb2YgZWFjaCBzdGVwLgovLyBUaGlzIHVzZXMgYSBQcm9taXNlIHRvIGJsb2NrIHRoZSBweXRob24gc2lkZSBvbiBjb21wbGV0aW9uIG9mIGVhY2ggc3RlcCwKLy8gdGhlbiBwYXNzZXMgdGhlIHJlc3VsdCBvZiB0aGUgcHJldmlvdXMgc3RlcCBhcyB0aGUgaW5wdXQgdG8gdGhlIG5leHQgc3RlcC4KZnVuY3Rpb24gX3VwbG9hZEZpbGVzQ29udGludWUob3V0cHV0SWQpIHsKICBjb25zdCBvdXRwdXRFbGVtZW50ID0gZG9jdW1lbnQuZ2V0RWxlbWVudEJ5SWQob3V0cHV0SWQpOwogIGNvbnN0IHN0ZXBzID0gb3V0cHV0RWxlbWVudC5zdGVwczsKCiAgY29uc3QgbmV4dCA9IHN0ZXBzLm5leHQob3V0cHV0RWxlbWVudC5sYXN0UHJvbWlzZVZhbHVlKTsKICByZXR1cm4gUHJvbWlzZS5yZXNvbHZlKG5leHQudmFsdWUucHJvbWlzZSkudGhlbigodmFsdWUpID0+IHsKICAgIC8vIENhY2hlIHRoZSBsYXN0IHByb21pc2UgdmFsdWUgdG8gbWFrZSBpdCBhdmFpbGFibGUgdG8gdGhlIG5leHQKICAgIC8vIHN0ZXAgb2YgdGhlIGdlbmVyYXRvci4KICAgIG91dHB1dEVsZW1lbnQubGFzdFByb21pc2VWYWx1ZSA9IHZhbHVlOwogICAgcmV0dXJuIG5leHQudmFsdWUucmVzcG9uc2U7CiAgfSk7Cn0KCi8qKgogKiBHZW5lcmF0b3IgZnVuY3Rpb24gd2hpY2ggaXMgY2FsbGVkIGJldHdlZW4gZWFjaCBhc3luYyBzdGVwIG9mIHRoZSB1cGxvYWQKICogcHJvY2Vzcy4KICogQHBhcmFtIHtzdHJpbmd9IGlucHV0SWQgRWxlbWVudCBJRCBvZiB0aGUgaW5wdXQgZmlsZSBwaWNrZXIgZWxlbWVudC4KICogQHBhcmFtIHtzdHJpbmd9IG91dHB1dElkIEVsZW1lbnQgSUQgb2YgdGhlIG91dHB1dCBkaXNwbGF5LgogKiBAcmV0dXJuIHshSXRlcmFibGU8IU9iamVjdD59IEl0ZXJhYmxlIG9mIG5leHQgc3RlcHMuCiAqLwpmdW5jdGlvbiogdXBsb2FkRmlsZXNTdGVwKGlucHV0SWQsIG91dHB1dElkKSB7CiAgY29uc3QgaW5wdXRFbGVtZW50ID0gZG9jdW1lbnQuZ2V0RWxlbWVudEJ5SWQoaW5wdXRJZCk7CiAgaW5wdXRFbGVtZW50LmRpc2FibGVkID0gZmFsc2U7CgogIGNvbnN0IG91dHB1dEVsZW1lbnQgPSBkb2N1bWVudC5nZXRFbGVtZW50QnlJZChvdXRwdXRJZCk7CiAgb3V0cHV0RWxlbWVudC5pbm5lckhUTUwgPSAnJzsKCiAgY29uc3QgcGlja2VkUHJvbWlzZSA9IG5ldyBQcm9taXNlKChyZXNvbHZlKSA9PiB7CiAgICBpbnB1dEVsZW1lbnQuYWRkRXZlbnRMaXN0ZW5lcignY2hhbmdlJywgKGUpID0+IHsKICAgICAgcmVzb2x2ZShlLnRhcmdldC5maWxlcyk7CiAgICB9KTsKICB9KTsKCiAgY29uc3QgY2FuY2VsID0gZG9jdW1lbnQuY3JlYXRlRWxlbWVudCgnYnV0dG9uJyk7CiAgaW5wdXRFbGVtZW50LnBhcmVudEVsZW1lbnQuYXBwZW5kQ2hpbGQoY2FuY2VsKTsKICBjYW5jZWwudGV4dENvbnRlbnQgPSAnQ2FuY2VsIHVwbG9hZCc7CiAgY29uc3QgY2FuY2VsUHJvbWlzZSA9IG5ldyBQcm9taXNlKChyZXNvbHZlKSA9PiB7CiAgICBjYW5jZWwub25jbGljayA9ICgpID0+IHsKICAgICAgcmVzb2x2ZShudWxsKTsKICAgIH07CiAgfSk7CgogIC8vIENhbmNlbCB1cGxvYWQgaWYgdXNlciBoYXNuJ3QgcGlja2VkIGFueXRoaW5nIGluIHRpbWVvdXQuCiAgY29uc3QgdGltZW91dFByb21pc2UgPSBuZXcgUHJvbWlzZSgocmVzb2x2ZSkgPT4gewogICAgc2V0VGltZW91dCgoKSA9PiB7CiAgICAgIHJlc29sdmUobnVsbCk7CiAgICB9LCBGSUxFX0NIQU5HRV9USU1FT1VUX01TKTsKICB9KTsKCiAgLy8gV2FpdCBmb3IgdGhlIHVzZXIgdG8gcGljayB0aGUgZmlsZXMuCiAgY29uc3QgZmlsZXMgPSB5aWVsZCB7CiAgICBwcm9taXNlOiBQcm9taXNlLnJhY2UoW3BpY2tlZFByb21pc2UsIHRpbWVvdXRQcm9taXNlLCBjYW5jZWxQcm9taXNlXSksCiAgICByZXNwb25zZTogewogICAgICBhY3Rpb246ICdzdGFydGluZycsCiAgICB9CiAgfTsKCiAgaWYgKCFmaWxlcykgewogICAgcmV0dXJuIHsKICAgICAgcmVzcG9uc2U6IHsKICAgICAgICBhY3Rpb246ICdjb21wbGV0ZScsCiAgICAgIH0KICAgIH07CiAgfQoKICBjYW5jZWwucmVtb3ZlKCk7CgogIC8vIERpc2FibGUgdGhlIGlucHV0IGVsZW1lbnQgc2luY2UgZnVydGhlciBwaWNrcyBhcmUgbm90IGFsbG93ZWQuCiAgaW5wdXRFbGVtZW50LmRpc2FibGVkID0gdHJ1ZTsKCiAgZm9yIChjb25zdCBmaWxlIG9mIGZpbGVzKSB7CiAgICBjb25zdCBsaSA9IGRvY3VtZW50LmNyZWF0ZUVsZW1lbnQoJ2xpJyk7CiAgICBsaS5hcHBlbmQoc3BhbihmaWxlLm5hbWUsIHtmb250V2VpZ2h0OiAnYm9sZCd9KSk7CiAgICBsaS5hcHBlbmQoc3BhbigKICAgICAgICBgKCR7ZmlsZS50eXBlIHx8ICduL2EnfSkgLSAke2ZpbGUuc2l6ZX0gYnl0ZXMsIGAgKwogICAgICAgIGBsYXN0IG1vZGlmaWVkOiAkewogICAgICAgICAgICBmaWxlLmxhc3RNb2RpZmllZERhdGUgPyBmaWxlLmxhc3RNb2RpZmllZERhdGUudG9Mb2NhbGVEYXRlU3RyaW5nKCkgOgogICAgICAgICAgICAgICAgICAgICAgICAgICAgICAgICAgICAnbi9hJ30gLSBgKSk7CiAgICBjb25zdCBwZXJjZW50ID0gc3BhbignMCUgZG9uZScpOwogICAgbGkuYXBwZW5kQ2hpbGQocGVyY2VudCk7CgogICAgb3V0cHV0RWxlbWVudC5hcHBlbmRDaGlsZChsaSk7CgogICAgY29uc3QgZmlsZURhdGFQcm9taXNlID0gbmV3IFByb21pc2UoKHJlc29sdmUpID0+IHsKICAgICAgY29uc3QgcmVhZGVyID0gbmV3IEZpbGVSZWFkZXIoKTsKICAgICAgcmVhZGVyLm9ubG9hZCA9IChlKSA9PiB7CiAgICAgICAgcmVzb2x2ZShlLnRhcmdldC5yZXN1bHQpOwogICAgICB9OwogICAgICByZWFkZXIucmVhZEFzQXJyYXlCdWZmZXIoZmlsZSk7CiAgICB9KTsKICAgIC8vIFdhaXQgZm9yIHRoZSBkYXRhIHRvIGJlIHJlYWR5LgogICAgbGV0IGZpbGVEYXRhID0geWllbGQgewogICAgICBwcm9taXNlOiBmaWxlRGF0YVByb21pc2UsCiAgICAgIHJlc3BvbnNlOiB7CiAgICAgICAgYWN0aW9uOiAnY29udGludWUnLAogICAgICB9CiAgICB9OwoKICAgIC8vIFVzZSBhIGNodW5rZWQgc2VuZGluZyB0byBhdm9pZCBtZXNzYWdlIHNpemUgbGltaXRzLiBTZWUgYi82MjExNTY2MC4KICAgIGxldCBwb3NpdGlvbiA9IDA7CiAgICB3aGlsZSAocG9zaXRpb24gPCBmaWxlRGF0YS5ieXRlTGVuZ3RoKSB7CiAgICAgIGNvbnN0IGxlbmd0aCA9IE1hdGgubWluKGZpbGVEYXRhLmJ5dGVMZW5ndGggLSBwb3NpdGlvbiwgTUFYX1BBWUxPQURfU0laRSk7CiAgICAgIGNvbnN0IGNodW5rID0gbmV3IFVpbnQ4QXJyYXkoZmlsZURhdGEsIHBvc2l0aW9uLCBsZW5ndGgpOwogICAgICBwb3NpdGlvbiArPSBsZW5ndGg7CgogICAgICBjb25zdCBiYXNlNjQgPSBidG9hKFN0cmluZy5mcm9tQ2hhckNvZGUuYXBwbHkobnVsbCwgY2h1bmspKTsKICAgICAgeWllbGQgewogICAgICAgIHJlc3BvbnNlOiB7CiAgICAgICAgICBhY3Rpb246ICdhcHBlbmQnLAogICAgICAgICAgZmlsZTogZmlsZS5uYW1lLAogICAgICAgICAgZGF0YTogYmFzZTY0LAogICAgICAgIH0sCiAgICAgIH07CiAgICAgIHBlcmNlbnQudGV4dENvbnRlbnQgPQogICAgICAgICAgYCR7TWF0aC5yb3VuZCgocG9zaXRpb24gLyBmaWxlRGF0YS5ieXRlTGVuZ3RoKSAqIDEwMCl9JSBkb25lYDsKICAgIH0KICB9CgogIC8vIEFsbCBkb25lLgogIHlpZWxkIHsKICAgIHJlc3BvbnNlOiB7CiAgICAgIGFjdGlvbjogJ2NvbXBsZXRlJywKICAgIH0KICB9Owp9CgpzY29wZS5nb29nbGUgPSBzY29wZS5nb29nbGUgfHwge307CnNjb3BlLmdvb2dsZS5jb2xhYiA9IHNjb3BlLmdvb2dsZS5jb2xhYiB8fCB7fTsKc2NvcGUuZ29vZ2xlLmNvbGFiLl9maWxlcyA9IHsKICBfdXBsb2FkRmlsZXMsCiAgX3VwbG9hZEZpbGVzQ29udGludWUsCn07Cn0pKHNlbGYpOwo=",
              "ok": true,
              "headers": [
                [
                  "content-type",
                  "application/javascript"
                ]
              ],
              "status": 200,
              "status_text": ""
            }
          },
          "base_uri": "https://localhost:8080/",
          "height": 139
        }
      },
      "source": [
        "from google.colab import files\n",
        "\n",
        "uploaded = files.upload()\n"
      ],
      "execution_count": 0,
      "outputs": [
        {
          "output_type": "display_data",
          "data": {
            "text/html": [
              "\n",
              "     <input type=\"file\" id=\"files-7766ce9d-bce3-40a6-8634-d6f52768a553\" name=\"files[]\" multiple disabled />\n",
              "     <output id=\"result-7766ce9d-bce3-40a6-8634-d6f52768a553\">\n",
              "      Upload widget is only available when the cell has been executed in the\n",
              "      current browser session. Please rerun this cell to enable.\n",
              "      </output>\n",
              "      <script src=\"/nbextensions/google.colab/files.js\"></script> "
            ],
            "text/plain": [
              "<IPython.core.display.HTML object>"
            ]
          },
          "metadata": {
            "tags": []
          }
        },
        {
          "output_type": "stream",
          "text": [
            "Saving test.p to test.p\n",
            "Saving train.p to train.p\n",
            "Saving data_batch_1.p to data_batch_1.p\n"
          ],
          "name": "stdout"
        }
      ]
    },
    {
      "cell_type": "code",
      "metadata": {
        "id": "rGK-WZqxTFDR",
        "colab_type": "code",
        "colab": {}
      },
      "source": [
        "import pandas as pd\n",
        "import numpy as np\n",
        "#import torch\n",
        "#import torch.nn as nn"
      ],
      "execution_count": 0,
      "outputs": []
    },
    {
      "cell_type": "code",
      "metadata": {
        "id": "1y2TUZwHQfde",
        "colab_type": "code",
        "colab": {}
      },
      "source": [
        "# Load pickled traffic sign data\n",
        "import pickle\n",
        "\n",
        "\n",
        "training_file = 'train.p'\n",
        "testing_file = 'test.p'\n",
        "\n",
        "with open(training_file, mode='rb') as f:\n",
        "    tstrain = pickle.load(f, encoding='bytes')\n",
        "with open(testing_file, mode='rb') as f:\n",
        "    tstest = pickle.load(f, encoding='bytes')\n"
      ],
      "execution_count": 0,
      "outputs": []
    },
    {
      "cell_type": "code",
      "metadata": {
        "id": "4kmQPE_l8eFP",
        "colab_type": "code",
        "outputId": "78fc2ec4-06b1-4371-b3c1-8beed2d20464",
        "colab": {
          "base_uri": "https://localhost:8080/",
          "height": 187
        }
      },
      "source": [
        "#convert to consolidated numpy array for later\n",
        "#NOTE: pickled version of images have shape (n, 32, 32, 3)\n",
        "#images denoted by dictionary name 'features'\n",
        "\n",
        "traindata = np.array(tstrain['features'])\n",
        "#print(traindata.shape)\n",
        "traindata = traindata.T.reshape(39209,32*32*3)\n",
        "print(traindata.shape)\n",
        "\n",
        "testdata = np.array(tstest['features'])\n",
        "#print(testdata.shape)\n",
        "testdata = testdata.T.reshape(12630,32*32*3)\n",
        "#print(testdata.shape)\n",
        "\n",
        "#pickled version of labels have shape (n,), dict name 'labels'\n",
        "trainlabels = np.array(tstrain['labels'])\n",
        "trainlabels = trainlabels.reshape(39209,1)\n",
        "#print(trainlabels.shape)\n",
        "testlabels = np.array(tstest['labels'])\n",
        "testlabels = testlabels.reshape(12630,1)\n",
        "print(testlabels.shape)\n",
        "print(testlabels)\n",
        "\n",
        "#add labels as column to end of data, check shape\n",
        "tsrtrain = np.concatenate((traindata,trainlabels),axis=1) #39209x3073\n",
        "tsrtest = np.concatenate((testdata,testlabels),axis=1) #12630x3073\n",
        "print(tsrtest.shape)"
      ],
      "execution_count": 0,
      "outputs": [
        {
          "output_type": "stream",
          "text": [
            "(39209, 3072)\n",
            "(12630, 1)\n",
            "[[16]\n",
            " [ 1]\n",
            " [38]\n",
            " ...\n",
            " [ 6]\n",
            " [ 7]\n",
            " [10]]\n",
            "(12630, 3073)\n"
          ],
          "name": "stdout"
        }
      ]
    },
    {
      "cell_type": "code",
      "metadata": {
        "id": "BZcyjAGzRX7s",
        "colab_type": "code",
        "colab": {}
      },
      "source": [
        "#load sign names csv\n",
        "\n",
        "#url = 'https://raw.githubusercontent.com/tortoisehare/TSR-GAN/master/signnames.csv'\n",
        "#dfs = pd.read_csv(url)\n",
        "\n",
        "import csv\n",
        "\n",
        "sign_names = []\n",
        "with open('signnames.csv', 'r') as f:\n",
        "    reader = csv.reader(f)\n",
        "    for row in reader:\n",
        "        sign_names.append(row[1])\n",
        "    sign_names.reverse()\n",
        "    sign_names.pop()\n",
        "    sign_names.reverse()"
      ],
      "execution_count": 0,
      "outputs": []
    },
    {
      "cell_type": "code",
      "metadata": {
        "id": "sQ_fiY81kMz7",
        "colab_type": "code",
        "outputId": "8d4bb586-b870-4c25-c34a-fc10b8d7e611",
        "colab": {
          "base_uri": "https://localhost:8080/",
          "height": 34
        }
      },
      "source": [
        "#load CIFAR10 dataset (one of the test minibatches, 10,000 random images)\n",
        "cifarfile = 'data_batch_1.p'\n",
        "\n",
        "with open(cifarfile, mode='rb') as fo:\n",
        "  cifar = pickle.load(fo,encoding='bytes')\n",
        "\n",
        "#data will be 10000x3072 numpy array, each row storing 32x32 colour image\n",
        "#labels will be a list of 10,000 numbers in range 0-9\n",
        "\n",
        "#make all labels 43\n",
        "labels = np.full((10000,1), 43)\n",
        "#print(labels)\n",
        "\n",
        "\n",
        "#pull out numpy array of images\n",
        "images = np.array(cifar[b'data']) #dict name has b due to bytes-encoding\n",
        "#print(images)\n",
        "\n",
        "#add labels as last column to dataset\n",
        "cifartot = np.concatenate((images,labels),axis=1)\n",
        "#print(cifartot)\n",
        "\n",
        "#split into train set (1900 images) and test set (700 images)\n",
        "#dataset randomly ordered so will get different classes\n",
        "#(though maybe not all ten)\n",
        "cifartrain = cifartot[:1900]    #1900x3073\n",
        "cifartest = cifartot[1901:2601] #700x3073\n",
        "print(cifartest.shape)\n"
      ],
      "execution_count": 0,
      "outputs": [
        {
          "output_type": "stream",
          "text": [
            "(700, 3073)\n"
          ],
          "name": "stdout"
        }
      ]
    },
    {
      "cell_type": "code",
      "metadata": {
        "id": "wI0AVfPbGQiZ",
        "colab_type": "code",
        "outputId": "96084a52-84a3-49b5-b249-be5161dafcb7",
        "colab": {
          "base_uri": "https://localhost:8080/",
          "height": 287
        }
      },
      "source": [
        "#merge CIFAR10 images with TSR images\n",
        "\n",
        "traindata = np.concatenate((cifartrain,tsrtrain)) #41109x3073\n",
        "#print(traindata)\n",
        "testdata = np.concatenate((cifartest,tsrtest)) #13330x3073\n",
        "#print(testdata)\n",
        "\n",
        "#convert numpy arrays to dataframe, add column name to labels\n",
        "dftrain = pd.DataFrame(traindata,index=None,columns=None)\n",
        "dftrain.rename(index=str, columns = {3072:\"Labels\"}, inplace=True)\n",
        "print(dftrain.shape)\n",
        "#dftrain.head()\n",
        "\n",
        "dftest = pd.DataFrame(testdata,index=None,columns=None)\n",
        "dftest.rename(index=str, columns = {3072:\"Labels\"}, inplace=True)\n",
        "print(dftest.shape)\n",
        "dftest.head()\n"
      ],
      "execution_count": 0,
      "outputs": [
        {
          "output_type": "stream",
          "text": [
            "(41109, 3073)\n",
            "(13330, 3073)\n"
          ],
          "name": "stdout"
        },
        {
          "output_type": "execute_result",
          "data": {
            "text/html": [
              "<div>\n",
              "<style scoped>\n",
              "    .dataframe tbody tr th:only-of-type {\n",
              "        vertical-align: middle;\n",
              "    }\n",
              "\n",
              "    .dataframe tbody tr th {\n",
              "        vertical-align: top;\n",
              "    }\n",
              "\n",
              "    .dataframe thead th {\n",
              "        text-align: right;\n",
              "    }\n",
              "</style>\n",
              "<table border=\"1\" class=\"dataframe\">\n",
              "  <thead>\n",
              "    <tr style=\"text-align: right;\">\n",
              "      <th></th>\n",
              "      <th>0</th>\n",
              "      <th>1</th>\n",
              "      <th>2</th>\n",
              "      <th>3</th>\n",
              "      <th>4</th>\n",
              "      <th>5</th>\n",
              "      <th>6</th>\n",
              "      <th>7</th>\n",
              "      <th>8</th>\n",
              "      <th>9</th>\n",
              "      <th>...</th>\n",
              "      <th>3063</th>\n",
              "      <th>3064</th>\n",
              "      <th>3065</th>\n",
              "      <th>3066</th>\n",
              "      <th>3067</th>\n",
              "      <th>3068</th>\n",
              "      <th>3069</th>\n",
              "      <th>3070</th>\n",
              "      <th>3071</th>\n",
              "      <th>Labels</th>\n",
              "    </tr>\n",
              "  </thead>\n",
              "  <tbody>\n",
              "    <tr>\n",
              "      <th>0</th>\n",
              "      <td>214</td>\n",
              "      <td>217</td>\n",
              "      <td>218</td>\n",
              "      <td>205</td>\n",
              "      <td>194</td>\n",
              "      <td>187</td>\n",
              "      <td>185</td>\n",
              "      <td>182</td>\n",
              "      <td>179</td>\n",
              "      <td>177</td>\n",
              "      <td>...</td>\n",
              "      <td>137</td>\n",
              "      <td>136</td>\n",
              "      <td>137</td>\n",
              "      <td>138</td>\n",
              "      <td>137</td>\n",
              "      <td>135</td>\n",
              "      <td>133</td>\n",
              "      <td>134</td>\n",
              "      <td>136</td>\n",
              "      <td>43</td>\n",
              "    </tr>\n",
              "    <tr>\n",
              "      <th>1</th>\n",
              "      <td>123</td>\n",
              "      <td>123</td>\n",
              "      <td>126</td>\n",
              "      <td>132</td>\n",
              "      <td>133</td>\n",
              "      <td>133</td>\n",
              "      <td>128</td>\n",
              "      <td>120</td>\n",
              "      <td>118</td>\n",
              "      <td>122</td>\n",
              "      <td>...</td>\n",
              "      <td>55</td>\n",
              "      <td>42</td>\n",
              "      <td>52</td>\n",
              "      <td>60</td>\n",
              "      <td>41</td>\n",
              "      <td>37</td>\n",
              "      <td>42</td>\n",
              "      <td>51</td>\n",
              "      <td>47</td>\n",
              "      <td>43</td>\n",
              "    </tr>\n",
              "    <tr>\n",
              "      <th>2</th>\n",
              "      <td>98</td>\n",
              "      <td>98</td>\n",
              "      <td>93</td>\n",
              "      <td>85</td>\n",
              "      <td>74</td>\n",
              "      <td>63</td>\n",
              "      <td>58</td>\n",
              "      <td>59</td>\n",
              "      <td>66</td>\n",
              "      <td>74</td>\n",
              "      <td>...</td>\n",
              "      <td>108</td>\n",
              "      <td>101</td>\n",
              "      <td>96</td>\n",
              "      <td>91</td>\n",
              "      <td>90</td>\n",
              "      <td>95</td>\n",
              "      <td>102</td>\n",
              "      <td>99</td>\n",
              "      <td>94</td>\n",
              "      <td>43</td>\n",
              "    </tr>\n",
              "    <tr>\n",
              "      <th>3</th>\n",
              "      <td>89</td>\n",
              "      <td>69</td>\n",
              "      <td>92</td>\n",
              "      <td>116</td>\n",
              "      <td>129</td>\n",
              "      <td>117</td>\n",
              "      <td>109</td>\n",
              "      <td>125</td>\n",
              "      <td>136</td>\n",
              "      <td>140</td>\n",
              "      <td>...</td>\n",
              "      <td>31</td>\n",
              "      <td>32</td>\n",
              "      <td>34</td>\n",
              "      <td>31</td>\n",
              "      <td>26</td>\n",
              "      <td>27</td>\n",
              "      <td>34</td>\n",
              "      <td>33</td>\n",
              "      <td>31</td>\n",
              "      <td>43</td>\n",
              "    </tr>\n",
              "    <tr>\n",
              "      <th>4</th>\n",
              "      <td>105</td>\n",
              "      <td>119</td>\n",
              "      <td>133</td>\n",
              "      <td>138</td>\n",
              "      <td>133</td>\n",
              "      <td>119</td>\n",
              "      <td>87</td>\n",
              "      <td>86</td>\n",
              "      <td>97</td>\n",
              "      <td>111</td>\n",
              "      <td>...</td>\n",
              "      <td>89</td>\n",
              "      <td>80</td>\n",
              "      <td>86</td>\n",
              "      <td>88</td>\n",
              "      <td>90</td>\n",
              "      <td>77</td>\n",
              "      <td>92</td>\n",
              "      <td>101</td>\n",
              "      <td>97</td>\n",
              "      <td>43</td>\n",
              "    </tr>\n",
              "  </tbody>\n",
              "</table>\n",
              "<p>5 rows × 3073 columns</p>\n",
              "</div>"
            ],
            "text/plain": [
              "     0    1    2    3    4    5    6    7    8    9  ...  3063  3064  3065  \\\n",
              "0  214  217  218  205  194  187  185  182  179  177  ...   137   136   137   \n",
              "1  123  123  126  132  133  133  128  120  118  122  ...    55    42    52   \n",
              "2   98   98   93   85   74   63   58   59   66   74  ...   108   101    96   \n",
              "3   89   69   92  116  129  117  109  125  136  140  ...    31    32    34   \n",
              "4  105  119  133  138  133  119   87   86   97  111  ...    89    80    86   \n",
              "\n",
              "   3066  3067  3068  3069  3070  3071  Labels  \n",
              "0   138   137   135   133   134   136      43  \n",
              "1    60    41    37    42    51    47      43  \n",
              "2    91    90    95   102    99    94      43  \n",
              "3    31    26    27    34    33    31      43  \n",
              "4    88    90    77    92   101    97      43  \n",
              "\n",
              "[5 rows x 3073 columns]"
            ]
          },
          "metadata": {
            "tags": []
          },
          "execution_count": 34
        }
      ]
    },
    {
      "cell_type": "code",
      "metadata": {
        "id": "27gFcimyRc7p",
        "colab_type": "code",
        "outputId": "4b691edd-a1d0-493c-83d7-1f93b82e2624",
        "colab": {
          "base_uri": "https://localhost:8080/",
          "height": 1615
        }
      },
      "source": [
        "#How many items in each class?\n",
        "\n",
        "print(\"Training set is: \")\n",
        "print(dftrain.shape)\n",
        "print(dftrain['Labels'].value_counts())\n",
        "\n",
        "print(\"Test set is: \")\n",
        "print(dftest.shape)\n",
        "print(dftest['Labels'].value_counts())"
      ],
      "execution_count": 0,
      "outputs": [
        {
          "output_type": "stream",
          "text": [
            "Training set is: \n",
            "(41109, 3073)\n",
            "2     2250\n",
            "1     2220\n",
            "13    2160\n",
            "12    2100\n",
            "38    2070\n",
            "10    2010\n",
            "4     1980\n",
            "43    1900\n",
            "5     1860\n",
            "25    1500\n",
            "9     1470\n",
            "7     1440\n",
            "8     1410\n",
            "3     1410\n",
            "11    1320\n",
            "18    1200\n",
            "35    1200\n",
            "17    1110\n",
            "31     780\n",
            "14     780\n",
            "33     689\n",
            "15     630\n",
            "26     600\n",
            "28     540\n",
            "23     510\n",
            "30     450\n",
            "34     420\n",
            "6      420\n",
            "16     420\n",
            "22     390\n",
            "36     390\n",
            "40     360\n",
            "20     360\n",
            "21     330\n",
            "39     300\n",
            "24     270\n",
            "29     270\n",
            "32     240\n",
            "42     240\n",
            "41     240\n",
            "27     240\n",
            "37     210\n",
            "19     210\n",
            "0      210\n",
            "Name: Labels, dtype: int64\n",
            "Test set is: \n",
            "(13330, 3073)\n",
            "2     750\n",
            "1     720\n",
            "13    720\n",
            "43    700\n",
            "12    690\n",
            "38    690\n",
            "10    660\n",
            "4     660\n",
            "5     630\n",
            "9     480\n",
            "25    480\n",
            "8     450\n",
            "3     450\n",
            "7     450\n",
            "11    420\n",
            "35    390\n",
            "18    390\n",
            "17    360\n",
            "14    270\n",
            "31    270\n",
            "33    210\n",
            "15    210\n",
            "26    180\n",
            "6     150\n",
            "16    150\n",
            "30    150\n",
            "23    150\n",
            "28    150\n",
            "36    120\n",
            "34    120\n",
            "22    120\n",
            "24     90\n",
            "39     90\n",
            "42     90\n",
            "20     90\n",
            "21     90\n",
            "29     90\n",
            "40     90\n",
            "32     60\n",
            "27     60\n",
            "41     60\n",
            "19     60\n",
            "37     60\n",
            "0      60\n",
            "Name: Labels, dtype: int64\n"
          ],
          "name": "stdout"
        }
      ]
    },
    {
      "cell_type": "code",
      "metadata": {
        "id": "_EK_17DYXhkJ",
        "colab_type": "code",
        "outputId": "12aeceec-cd00-41a2-e114-2796cc5bab1b",
        "colab": {
          "base_uri": "https://localhost:8080/",
          "height": 51
        }
      },
      "source": [
        "#create larger dataset, store for later\n",
        "alltrain = dftrain.to_numpy()\n",
        "alltest = dftest.to_numpy()\n",
        "print(alltrain.shape) #expect (41109,3073)\n",
        "print(alltest.shape) #expect (13330,3073)\n",
        "\n",
        "np.save('alltrain',alltrain)\n",
        "np.save('alltest',alltest)"
      ],
      "execution_count": 0,
      "outputs": [
        {
          "output_type": "stream",
          "text": [
            "(41109, 3073)\n",
            "(13330, 3073)\n"
          ],
          "name": "stdout"
        }
      ]
    },
    {
      "cell_type": "code",
      "metadata": {
        "id": "P2arZ4C966Oz",
        "colab_type": "code",
        "outputId": "48c29ad8-1d70-471e-c700-367fff32a4fa",
        "colab": {
          "base_uri": "https://localhost:8080/",
          "height": 816
        }
      },
      "source": [
        "#only want class 1, 5, and 43 for the first attempt\n",
        "smalltrain = dftrain.loc[(dftrain[\"Labels\"]==1)|(dftrain[\"Labels\"]==5)|(dftrain[\"Labels\"]==43)]\n",
        "smalltest = dftest.loc[(dftest[\"Labels\"]==1)|(dftest[\"Labels\"]==5)|(dftest[\"Labels\"]==43)]\n",
        "print(smalltrain.iloc[790:810])\n",
        "\n",
        "#convert to 2D numpy array for use in classifiers\n",
        "smalltrain = smalltrain.to_numpy()\n",
        "smalltest = smalltest.to_numpy()\n",
        "print(smalltrain.shape)\n",
        "print(smalltest.shape)\n"
      ],
      "execution_count": 0,
      "outputs": [
        {
          "output_type": "stream",
          "text": [
            "       0    1    2    3    4    5    6    7    8    9  ...  3063  3064  3065  \\\n",
            "790  255  251  251  251  252  253  252  251  252  252  ...   253   253   253   \n",
            "791  104   86  116  153  174  194  149  121  214  244  ...    91    94    95   \n",
            "792   55   49   44   41   37   33   43   44   36   31  ...   109   155   155   \n",
            "793  141  141  142  142  145  147  147  147  147  147  ...   151   150   148   \n",
            "794  231  236  233  237  237  237  237  244  228  208  ...    74    73    79   \n",
            "795  114  123  133  141  148  153  159  158  160  160  ...    74    72    68   \n",
            "796   75   78   80   81   82   82   83   82   82   81  ...   236   237   237   \n",
            "797  102  101  101  103  106  108  111  112  114  117  ...   211   105    29   \n",
            "798   61   82  113  122  125  132  141  149  157  160  ...   136   138   135   \n",
            "799   88   90   89   90   92   96  100   95   98  102  ...    46    47    51   \n",
            "800   86  117  115  118  121  123  124  126  125  124  ...    89    94    93   \n",
            "801  223  255  255  240  216  178  133  149  175  151  ...    10    11    12   \n",
            "802  233  222  214  212  221  223  208  211  206  203  ...   146   151   144   \n",
            "803  219  214  205  198  190  188  196  187  190  187  ...   233   239   245   \n",
            "804  144  145  147  153  160  166  170  172  174  174  ...    62    62    52   \n",
            "805  108  128  123  114  119  120  120  120  123  130  ...    77    71    64   \n",
            "806   57   31   23   34   59   53   50   73  107   72  ...    76    46    55   \n",
            "807   86   84   97  116  124  144  131  126  130  138  ...    16    29    32   \n",
            "808  224  223  224  211  202  206  205  202  209  208  ...   102   165   215   \n",
            "809  151  151  151  151  150  154  167  185  210  203  ...   223   219   209   \n",
            "\n",
            "     3066  3067  3068  3069  3070  3071  Labels  \n",
            "790   253   253   253   253   253   253      43  \n",
            "791    98    97   103   121   123   124      43  \n",
            "792   112   120   145   104    75    83      43  \n",
            "793   151   150   147   150   153   150      43  \n",
            "794    83    80    81    90   126    91      43  \n",
            "795    75    78    71    70    71    71      43  \n",
            "796   237   237   237   237   237   210      43  \n",
            "797    40    34    45    55   101   240      43  \n",
            "798    78    24    23    21    22    30      43  \n",
            "799    52    47    46    49    55    55      43  \n",
            "800    93    98   101   117   119   101      43  \n",
            "801    11    12    13    12    13    14      43  \n",
            "802   152   157   145   153   162   157      43  \n",
            "803   245   245   245   246   247   249      43  \n",
            "804    44    54    47    45    50    42      43  \n",
            "805    57    56    61    79    90    63      43  \n",
            "806    46    84   139    95    89   118      43  \n",
            "807    34    34    27    41    35    29      43  \n",
            "808   227   225   223   222   214   198      43  \n",
            "809   192   164   123    48    10    11      43  \n",
            "\n",
            "[20 rows x 3073 columns]\n",
            "(5980, 3073)\n",
            "(2050, 3073)\n"
          ],
          "name": "stdout"
        }
      ]
    },
    {
      "cell_type": "code",
      "metadata": {
        "id": "8nCvHli-GgU8",
        "colab_type": "code",
        "colab": {}
      },
      "source": [
        "#store files in numpy array .npy extension\n",
        "np.save('smalltrain',smalltrain)\n",
        "np.save('smalltest',smalltest)"
      ],
      "execution_count": 0,
      "outputs": []
    },
    {
      "cell_type": "code",
      "metadata": {
        "id": "CPuPfyXTSG2-",
        "colab_type": "code",
        "colab": {}
      },
      "source": [
        "#Reference cell\n",
        "#example of how to download files to local directory\n",
        "\n",
        "from google.colab import files\n",
        "#np.savetxt(\"traindata.csv\", traindata, delimiter=\",\")\n",
        "#files.download('traindata.csv')\n",
        "\n",
        "files.download('smalltrain.npy')\n",
        "files.download('smalltest.npy')"
      ],
      "execution_count": 0,
      "outputs": []
    },
    {
      "cell_type": "markdown",
      "metadata": {
        "id": "yPXQhd6Zm6us",
        "colab_type": "text"
      },
      "source": [
        "CIFAR10: \n",
        "This tech report (Chapter 3) describes the dataset and the methodology followed when collecting it in much greater detail. Please cite it if you intend to use this dataset. \n",
        "\n",
        "Learning Multiple Layers of Features from Tiny Images, Alex Krizhevsky, 2009."
      ]
    }
  ]
}